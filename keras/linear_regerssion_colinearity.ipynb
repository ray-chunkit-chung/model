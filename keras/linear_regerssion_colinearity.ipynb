{
 "cells": [
  {
   "cell_type": "code",
   "execution_count": 1,
   "metadata": {},
   "outputs": [
    {
     "name": "stderr",
     "output_type": "stream",
     "text": [
      "D:\\Users\\chungch\\AppData\\Local\\Continuum\\Anaconda3\\envs\\python3\\lib\\site-packages\\statsmodels\\compat\\pandas.py:56: FutureWarning: The pandas.core.datetools module is deprecated and will be removed in a future version. Please use the pandas.tseries module instead.\n",
      "  from pandas.core import datetools\n",
      "Using TensorFlow backend.\n"
     ]
    }
   ],
   "source": [
    "import statsmodels.formula.api as smf\n",
    "import statsmodels.api as sm\n",
    "\n",
    "from keras.models import Sequential\n",
    "from keras.layers import Dense, Activation\n",
    "from sklearn.model_selection import train_test_split\n",
    "\n",
    "import numpy as np\n",
    "import pandas as pd\n",
    "\n",
    "import matplotlib.pyplot as plt\n",
    "import seaborn as sns\n",
    "%matplotlib inline"
   ]
  },
  {
   "cell_type": "code",
   "execution_count": null,
   "metadata": {
    "collapsed": true
   },
   "outputs": [],
   "source": []
  },
  {
   "cell_type": "code",
   "execution_count": null,
   "metadata": {
    "collapsed": true
   },
   "outputs": [],
   "source": []
  },
  {
   "cell_type": "code",
   "execution_count": 2,
   "metadata": {},
   "outputs": [
    {
     "data": {
      "image/png": "[encoded data removed]",
      "text/plain": [
       "<matplotlib.figure.Figure at 0x29c4f080>"
      ]
     },
     "metadata": {},
     "output_type": "display_data"
    }
   ],
   "source": [
    "# Make a sample data:\n",
    "# y is linear with x1, x1 and x2 are colinear, x3 is pure noise\n",
    "\n",
    "size = 10000\n",
    "num_features = 3\n",
    "\n",
    "x1 = np.random.normal(0,0.3,(size,1)) + np.linspace(0,1,size).reshape((size,1))\n",
    "x2 = np.random.normal(0,0.1,(size,1)) + x1 + 0.2\n",
    "x3 = np.random.normal(0,0.5,(size,1))\n",
    "\n",
    "X = np.concatenate((x1,x2,x3), axis=1)\n",
    "pd.Series(X.T[0]).plot()\n",
    "pd.Series(X.T[1]).plot()\n",
    "pd.Series(X.T[2]).plot()\n",
    "\n",
    "y = np.random.normal(0,0.5,size) + np.linspace(0,10,size)\n",
    "pd.Series(y).plot()\n",
    "\n",
    "X_train, X_test, y_train, y_test = train_test_split(\n",
    "    X, y, test_size=0.3, shuffle=True)\n",
    "\n",
    "train_data = pd.DataFrame(\n",
    "    np.hstack([X_train, y_train.reshape(y_train.size,1)]),\n",
    "    columns=['x1', 'x2', 'x3', 'y'])\n",
    "\n",
    "test_data = pd.DataFrame(\n",
    "    np.hstack([X_test, y_test.reshape(y_test.size,1)]),\n",
    "    columns=['x1', 'x2', 'x3', 'y'])"
   ]
  },
  {
   "cell_type": "markdown",
   "metadata": {},
   "source": [
    "### fit against one explaining feature"
   ]
  },
  {
   "cell_type": "code",
   "execution_count": 3,
   "metadata": {},
   "outputs": [
    {
     "data": {
      "text/html": [
       "<table class=\"simpletable\">\n",
       "<tr>\n",
       "        <td>Model:</td>               <td>OLS</td>         <td>Adj. R-squared:</td>      <td>0.477</td>  \n",
       "</tr>\n",
       "<tr>\n",
       "  <td>Dependent Variable:</td>         <td>y</td>               <td>AIC:</td>         <td>30394.0638</td>\n",
       "</tr>\n",
       "<tr>\n",
       "         <td>Date:</td>        <td>2017-12-27 13:58</td>        <td>BIC:</td>         <td>30407.7711</td>\n",
       "</tr>\n",
       "<tr>\n",
       "   <td>No. Observations:</td>        <td>7000</td>         <td>Log-Likelihood:</td>     <td>-15195.</td> \n",
       "</tr>\n",
       "<tr>\n",
       "       <td>Df Model:</td>              <td>1</td>           <td>F-statistic:</td>        <td>6372.</td>  \n",
       "</tr>\n",
       "<tr>\n",
       "     <td>Df Residuals:</td>          <td>6998</td>       <td>Prob (F-statistic):</td>    <td>0.00</td>   \n",
       "</tr>\n",
       "<tr>\n",
       "      <td>R-squared:</td>            <td>0.477</td>            <td>Scale:</td>          <td>4.4990</td>  \n",
       "</tr>\n",
       "</table>\n",
       "<table class=\"simpletable\">\n",
       "<tr>\n",
       "      <td></td>       <th>Coef.</th> <th>Std.Err.</th>    <th>t</th>     <th>P>|t|</th> <th>[0.025</th> <th>0.975]</th>\n",
       "</tr>\n",
       "<tr>\n",
       "  <th>Intercept</th> <td>2.5592</td>  <td>0.0398</td>  <td>64.3803</td> <td>0.0000</td> <td>2.4813</td> <td>2.6371</td>\n",
       "</tr>\n",
       "<tr>\n",
       "  <th>x1</th>        <td>4.8735</td>  <td>0.0611</td>  <td>79.8233</td> <td>0.0000</td> <td>4.7538</td> <td>4.9932</td>\n",
       "</tr>\n",
       "</table>\n",
       "<table class=\"simpletable\">\n",
       "<tr>\n",
       "     <td>Omnibus:</td>    <td>40.694</td>  <td>Durbin-Watson:</td>    <td>1.990</td>\n",
       "</tr>\n",
       "<tr>\n",
       "  <td>Prob(Omnibus):</td>  <td>0.000</td> <td>Jarque-Bera (JB):</td> <td>28.919</td>\n",
       "</tr>\n",
       "<tr>\n",
       "       <td>Skew:</td>     <td>-0.002</td>     <td>Prob(JB):</td>      <td>0.000</td>\n",
       "</tr>\n",
       "<tr>\n",
       "     <td>Kurtosis:</td>    <td>2.685</td>  <td>Condition No.:</td>      <td>3</td>  \n",
       "</tr>\n",
       "</table>"
      ],
      "text/plain": [
       "<class 'statsmodels.iolib.summary2.Summary'>\n",
       "\"\"\"\n",
       "                  Results: Ordinary least squares\n",
       "===================================================================\n",
       "Model:              OLS              Adj. R-squared:     0.477     \n",
       "Dependent Variable: y                AIC:                30394.0638\n",
       "Date:               2017-12-27 13:58 BIC:                30407.7711\n",
       "No. Observations:   7000             Log-Likelihood:     -15195.   \n",
       "Df Model:           1                F-statistic:        6372.     \n",
       "Df Residuals:       6998             Prob (F-statistic): 0.00      \n",
       "R-squared:          0.477            Scale:              4.4990    \n",
       "---------------------------------------------------------------------\n",
       "               Coef.    Std.Err.      t      P>|t|    [0.025   0.975]\n",
       "---------------------------------------------------------------------\n",
       "Intercept      2.5592     0.0398   64.3803   0.0000   2.4813   2.6371\n",
       "x1             4.8735     0.0611   79.8233   0.0000   4.7538   4.9932\n",
       "-------------------------------------------------------------------\n",
       "Omnibus:              40.694        Durbin-Watson:           1.990 \n",
       "Prob(Omnibus):        0.000         Jarque-Bera (JB):        28.919\n",
       "Skew:                 -0.002        Prob(JB):                0.000 \n",
       "Kurtosis:             2.685         Condition No.:           3     \n",
       "===================================================================\n",
       "\n",
       "\"\"\""
      ]
     },
     "execution_count": 3,
     "metadata": {},
     "output_type": "execute_result"
    }
   ],
   "source": [
    "ols = smf.ols(formula='y ~ x1', data=train_data)\n",
    "result = ols.fit()\n",
    "result.summary2()"
   ]
  },
  {
   "cell_type": "code",
   "execution_count": 36,
   "metadata": {},
   "outputs": [
    {
     "data": {
      "text/html": [
       "<table class=\"simpletable\">\n",
       "<caption>OLS Regression Results</caption>\n",
       "<tr>\n",
       "  <th>Dep. Variable:</th>            <td>y</td>        <th>  R-squared:         </th> <td>   0.477</td> \n",
       "</tr>\n",
       "<tr>\n",
       "  <th>Model:</th>                   <td>OLS</td>       <th>  Adj. R-squared:    </th> <td>   0.477</td> \n",
       "</tr>\n",
       "<tr>\n",
       "  <th>Method:</th>             <td>Least Squares</td>  <th>  F-statistic:       </th> <td>   6372.</td> \n",
       "</tr>\n",
       "<tr>\n",
       "  <th>Date:</th>             <td>Wed, 27 Dec 2017</td> <th>  Prob (F-statistic):</th>  <td>  0.00</td>  \n",
       "</tr>\n",
       "<tr>\n",
       "  <th>Time:</th>                 <td>14:14:55</td>     <th>  Log-Likelihood:    </th> <td> -15195.</td> \n",
       "</tr>\n",
       "<tr>\n",
       "  <th>No. Observations:</th>      <td>  7000</td>      <th>  AIC:               </th> <td>3.039e+04</td>\n",
       "</tr>\n",
       "<tr>\n",
       "  <th>Df Residuals:</th>          <td>  6998</td>      <th>  BIC:               </th> <td>3.041e+04</td>\n",
       "</tr>\n",
       "<tr>\n",
       "  <th>Df Model:</th>              <td>     1</td>      <th>                     </th>     <td> </td>    \n",
       "</tr>\n",
       "<tr>\n",
       "  <th>Covariance Type:</th>      <td>nonrobust</td>    <th>                     </th>     <td> </td>    \n",
       "</tr>\n",
       "</table>\n",
       "<table class=\"simpletable\">\n",
       "<tr>\n",
       "      <td></td>         <th>coef</th>     <th>std err</th>      <th>t</th>      <th>P>|t|</th>  <th>[0.025</th>    <th>0.975]</th>  \n",
       "</tr>\n",
       "<tr>\n",
       "  <th>Intercept</th> <td>    2.5592</td> <td>    0.040</td> <td>   64.380</td> <td> 0.000</td> <td>    2.481</td> <td>    2.637</td>\n",
       "</tr>\n",
       "<tr>\n",
       "  <th>x1</th>        <td>    4.8735</td> <td>    0.061</td> <td>   79.823</td> <td> 0.000</td> <td>    4.754</td> <td>    4.993</td>\n",
       "</tr>\n",
       "</table>\n",
       "<table class=\"simpletable\">\n",
       "<tr>\n",
       "  <th>Omnibus:</th>       <td>40.694</td> <th>  Durbin-Watson:     </th> <td>   1.990</td>\n",
       "</tr>\n",
       "<tr>\n",
       "  <th>Prob(Omnibus):</th> <td> 0.000</td> <th>  Jarque-Bera (JB):  </th> <td>  28.919</td>\n",
       "</tr>\n",
       "<tr>\n",
       "  <th>Skew:</th>          <td>-0.002</td> <th>  Prob(JB):          </th> <td>5.25e-07</td>\n",
       "</tr>\n",
       "<tr>\n",
       "  <th>Kurtosis:</th>      <td> 2.685</td> <th>  Cond. No.          </th> <td>    3.11</td>\n",
       "</tr>\n",
       "</table>"
      ],
      "text/plain": [
       "<class 'statsmodels.iolib.summary.Summary'>\n",
       "\"\"\"\n",
       "                            OLS Regression Results                            \n",
       "==============================================================================\n",
       "Dep. Variable:                      y   R-squared:                       0.477\n",
       "Model:                            OLS   Adj. R-squared:                  0.477\n",
       "Method:                 Least Squares   F-statistic:                     6372.\n",
       "Date:                Wed, 27 Dec 2017   Prob (F-statistic):               0.00\n",
       "Time:                        14:14:55   Log-Likelihood:                -15195.\n",
       "No. Observations:                7000   AIC:                         3.039e+04\n",
       "Df Residuals:                    6998   BIC:                         3.041e+04\n",
       "Df Model:                           1                                         \n",
       "Covariance Type:            nonrobust                                         \n",
       "==============================================================================\n",
       "                 coef    std err          t      P>|t|      [0.025      0.975]\n",
       "------------------------------------------------------------------------------\n",
       "Intercept      2.5592      0.040     64.380      0.000       2.481       2.637\n",
       "x1             4.8735      0.061     79.823      0.000       4.754       4.993\n",
       "==============================================================================\n",
       "Omnibus:                       40.694   Durbin-Watson:                   1.990\n",
       "Prob(Omnibus):                  0.000   Jarque-Bera (JB):               28.919\n",
       "Skew:                          -0.002   Prob(JB):                     5.25e-07\n",
       "Kurtosis:                       2.685   Cond. No.                         3.11\n",
       "==============================================================================\n",
       "\n",
       "Warnings:\n",
       "[1] Standard Errors assume that the covariance matrix of the errors is correctly specified.\n",
       "\"\"\""
      ]
     },
     "execution_count": 36,
     "metadata": {},
     "output_type": "execute_result"
    }
   ],
   "source": [
    "result.summary()"
   ]
  },
  {
   "cell_type": "code",
   "execution_count": 4,
   "metadata": {},
   "outputs": [
    {
     "name": "stdout",
     "output_type": "stream",
     "text": [
      "mse 4.497675103836702\n",
      "qqplot of resid againt normal\n"
     ]
    },
    {
     "data": {
      "image/png": "[encoded data removed]",
      "text/plain": [
       "<matplotlib.figure.Figure at 0x335b1940>"
      ]
     },
     "metadata": {},
     "output_type": "display_data"
    }
   ],
   "source": [
    "# mean square error\n",
    "resid = result.resid\n",
    "print('mse', np.mean(np.square(resid)))\n",
    "\n",
    "print('qqplot of resid againt normal')\n",
    "fig = sm.qqplot(resid, line='s')"
   ]
  },
  {
   "cell_type": "code",
   "execution_count": 109,
   "metadata": {
    "scrolled": false
   },
   "outputs": [
    {
     "data": {
      "text/html": [
       "<div>\n",
       "<style scoped>\n",
       "    .dataframe tbody tr th:only-of-type {\n",
       "        vertical-align: middle;\n",
       "    }\n",
       "\n",
       "    .dataframe tbody tr th {\n",
       "        vertical-align: top;\n",
       "    }\n",
       "\n",
       "    .dataframe thead th {\n",
       "        text-align: right;\n",
       "    }\n",
       "</style>\n",
       "<table border=\"1\" class=\"dataframe\">\n",
       "  <thead>\n",
       "    <tr style=\"text-align: right;\">\n",
       "      <th></th>\n",
       "      <th></th>\n",
       "      <th>coef</th>\n",
       "      <th>std err</th>\n",
       "      <th>t</th>\n",
       "      <th>P&gt;|t|</th>\n",
       "      <th>[0.025</th>\n",
       "      <th>0.975]</th>\n",
       "    </tr>\n",
       "    <tr>\n",
       "      <th>model_id</th>\n",
       "      <th></th>\n",
       "      <th></th>\n",
       "      <th></th>\n",
       "      <th></th>\n",
       "      <th></th>\n",
       "      <th></th>\n",
       "      <th></th>\n",
       "    </tr>\n",
       "  </thead>\n",
       "  <tbody>\n",
       "    <tr>\n",
       "      <th rowspan=\"2\" valign=\"top\">0001</th>\n",
       "      <th>Intercept</th>\n",
       "      <td>2.5592</td>\n",
       "      <td>0.040</td>\n",
       "      <td>64.380</td>\n",
       "      <td>0.000</td>\n",
       "      <td>2.481</td>\n",
       "      <td>2.637</td>\n",
       "    </tr>\n",
       "    <tr>\n",
       "      <th>x1</th>\n",
       "      <td>4.8735</td>\n",
       "      <td>0.061</td>\n",
       "      <td>79.823</td>\n",
       "      <td>0.000</td>\n",
       "      <td>4.754</td>\n",
       "      <td>4.993</td>\n",
       "    </tr>\n",
       "  </tbody>\n",
       "</table>\n",
       "</div>"
      ],
      "text/plain": [
       "                       coef      std err       t      P>|t|     [0.025   \\\n",
       "model_id                                                                  \n",
       "0001     Intercept      2.5592      0.040     64.380   0.000      2.481   \n",
       "         x1             4.8735      0.061     79.823   0.000      4.754   \n",
       "\n",
       "                      0.975]   \n",
       "model_id                       \n",
       "0001     Intercept      2.637  \n",
       "         x1             4.993  "
      ]
     },
     "execution_count": 109,
     "metadata": {},
     "output_type": "execute_result"
    }
   ],
   "source": [
    "from io import StringIO\n",
    "\n",
    "temp = StringIO(result.summary().as_csv())\n",
    "temp = pd.read_csv(temp, names=list(range(7)))\n",
    "\n",
    "temp.loc[4,1] = temp.loc[4,2]\n",
    "temp.loc[4,2] = temp.loc[4,3]\n",
    "temp.loc[4,3] = temp.loc[4,4]\n",
    "temp.loc[4,4] = None\n",
    "\n",
    "summary = pd.DataFrame(\n",
    "    np.concatenate((temp.loc[1:9,1].values,\n",
    "                    temp.loc[1:7,3].values,\n",
    "                    temp.loc[13:16,1].values,\n",
    "                   )))\n",
    "summary.index = np.concatenate((temp.loc[1:9,0].values,\n",
    "                                temp.loc[1:7,2].values,\n",
    "                                temp.loc[13:16,0].values,\n",
    "                               ))\n",
    "summary = summary.T\n",
    "summary['model_id'] = '0001'\n",
    "summary.set_index(['model_id'], inplace=True)\n",
    "\n",
    "coff = pd.DataFrame(temp.iloc[11:-4].values, columns=temp.iloc[10].tolist())\n",
    "coff['model_id'] = '0001'\n",
    "coff.set_index(['model_id', coff.columns[0]], inplace=True)\n",
    "\n",
    "coff"
   ]
  },
  {
   "cell_type": "code",
   "execution_count": null,
   "metadata": {
    "collapsed": true
   },
   "outputs": [],
   "source": []
  },
  {
   "cell_type": "markdown",
   "metadata": {},
   "source": [
    "### Fit against colinear features"
   ]
  },
  {
   "cell_type": "code",
   "execution_count": null,
   "metadata": {
    "collapsed": true
   },
   "outputs": [],
   "source": [
    "result2 = smf.ols(formula='y ~ x1*x2', data=train_data).fit()\n",
    "result2.summary2()"
   ]
  },
  {
   "cell_type": "code",
   "execution_count": null,
   "metadata": {
    "collapsed": true
   },
   "outputs": [],
   "source": [
    "# mean square error\n",
    "resid = result2.resid\n",
    "print('mse', np.mean(np.square(resid)))\n",
    "\n",
    "print('qqplot of resid againt normal')\n",
    "fig = sm.qqplot(resid, line='s')"
   ]
  },
  {
   "cell_type": "code",
   "execution_count": null,
   "metadata": {
    "collapsed": true
   },
   "outputs": [],
   "source": []
  },
  {
   "cell_type": "markdown",
   "metadata": {},
   "source": [
    "### Fig against pure noise\n",
    "\n",
    "return high p value"
   ]
  },
  {
   "cell_type": "code",
   "execution_count": null,
   "metadata": {
    "collapsed": true
   },
   "outputs": [],
   "source": [
    "result3 = smf.ols(formula='y ~ x3', data=train_data).fit()\n",
    "result3.summary2()"
   ]
  },
  {
   "cell_type": "code",
   "execution_count": null,
   "metadata": {
    "collapsed": true
   },
   "outputs": [],
   "source": [
    "# mean square error\n",
    "resid = result3.resid\n",
    "print('mse', np.mean(np.square(resid)))\n",
    "\n",
    "print('qqplot of resid againt normal')\n",
    "fig = sm.qqplot(resid, line='s')"
   ]
  },
  {
   "cell_type": "code",
   "execution_count": null,
   "metadata": {
    "collapsed": true
   },
   "outputs": [],
   "source": []
  },
  {
   "cell_type": "code",
   "execution_count": null,
   "metadata": {
    "collapsed": true
   },
   "outputs": [],
   "source": []
  },
  {
   "cell_type": "code",
   "execution_count": null,
   "metadata": {
    "collapsed": true
   },
   "outputs": [],
   "source": []
  },
  {
   "cell_type": "code",
   "execution_count": null,
   "metadata": {
    "collapsed": true
   },
   "outputs": [],
   "source": [
    "model = Sequential()\n",
    "model.add(Dense(1, input_dim=1, activation='linear'))\n",
    "\n",
    "model.compile(loss='mse',\n",
    "              optimizer='rmsprop')\n",
    "# metrics=['accuracy'] # for classification\n",
    "    \n",
    "history = model.fit(X_train.T[0], y_train,\n",
    "          validation_split=0.2, epochs=50,\n",
    "          callbacks=[plotter])\n",
    "# epochs=120\n",
    "# batch_size=128\n",
    "\n",
    "score = model.evaluate(X_test.T[0], y_test)\n",
    "# batch_size=128\n",
    "\n",
    "score"
   ]
  },
  {
   "cell_type": "code",
   "execution_count": null,
   "metadata": {
    "collapsed": true
   },
   "outputs": [],
   "source": [
    "model.summary()"
   ]
  },
  {
   "cell_type": "code",
   "execution_count": null,
   "metadata": {
    "collapsed": true
   },
   "outputs": [],
   "source": [
    "# val_loss is better than train loss?! wtf?\n",
    "# no worry: train loss use average loss in an epoch\n",
    "# val loss only use the end of an epoch, which can be better than average.\n",
    "pd.DataFrame(history.history)"
   ]
  },
  {
   "cell_type": "code",
   "execution_count": null,
   "metadata": {
    "collapsed": true
   },
   "outputs": [],
   "source": []
  },
  {
   "cell_type": "markdown",
   "metadata": {},
   "source": [
    "# Apply on house price prediction"
   ]
  },
  {
   "cell_type": "code",
   "execution_count": null,
   "metadata": {
    "collapsed": true
   },
   "outputs": [],
   "source": [
    "df = pd.concat([pd.read_csv('./data/house_train.csv'), pd.read_csv('./data/house_test.csv')])\n",
    "df.head()"
   ]
  },
  {
   "cell_type": "code",
   "execution_count": null,
   "metadata": {
    "collapsed": true
   },
   "outputs": [],
   "source": []
  },
  {
   "cell_type": "code",
   "execution_count": null,
   "metadata": {
    "collapsed": true
   },
   "outputs": [],
   "source": []
  }
 ],
 "metadata": {
  "kernelspec": {
   "display_name": "Python 3",
   "language": "python",
   "name": "python3"
  },
  "language_info": {
   "codemirror_mode": {
    "name": "ipython",
    "version": 3
   },
   "file_extension": ".py",
   "mimetype": "text/x-python",
   "name": "python",
   "nbconvert_exporter": "python",
   "pygments_lexer": "ipython3",
   "version": "3.6.1"
  }
 },
 "nbformat": 4,
 "nbformat_minor": 2
}
